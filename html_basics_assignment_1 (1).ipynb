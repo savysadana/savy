{
  "nbformat": 4,
  "nbformat_minor": 0,
  "metadata": {
    "colab": {
      "provenance": []
    },
    "kernelspec": {
      "name": "python3",
      "display_name": "Python 3"
    },
    "language_info": {
      "name": "python"
    }
  },
  "cells": [
    {
      "cell_type": "code",
      "source": [],
      "metadata": {
        "id": "OcUTS6CkAq_x"
      },
      "execution_count": null,
      "outputs": []
    },
    {
      "cell_type": "markdown",
      "source": [],
      "metadata": {
        "id": "WUUmpX3kArcH"
      }
    },
    {
      "cell_type": "markdown",
      "source": [
        "**Question 1**\n",
        "\n",
        " Basic HTML Page Structure"
      ],
      "metadata": {
        "id": "pYKbThoXF56T"
      }
    },
    {
      "cell_type": "code",
      "source": [
        "<!DOCTYPE html>\n",
        "<html lang=\"en\">\n",
        "<head>\n",
        "    <meta charset=\"UTF-8\">\n",
        "    <meta name=\"viewport\" content=\"width=device-width, initial-scale=1.0\">\n",
        "    <title>Page Title</title>\n",
        "</head>\n",
        "<body>\n",
        "    <h1>This is a Heading</h1>\n",
        "    <p>This is a paragraph.</p>\n",
        "</body>\n",
        "</html>\n",
        "\n"
      ],
      "metadata": {
        "id": "vXkUbsucLodH"
      },
      "execution_count": null,
      "outputs": []
    },
    {
      "cell_type": "markdown",
      "source": [
        "Explanation of Elements\n",
        "<!DOCTYPE html>\n",
        "Declares the document type and version of HTML. It helps the browser understand how to render the page.\n",
        "\n",
        "HTML\n",
        "\n",
        "The root element that wraps the entire HTML document.\n",
        "\n",
        "HEAD\n",
        "\n",
        "Contains meta-information about the page such as character encoding, page title, and links to stylesheets or scripts.\n",
        "\n",
        "TITLE\n",
        "\n",
        "Sets the title of the page shown in the browser tab.\n",
        "\n",
        "BODY\n",
        "\n",
        "Contains the visible content of the page like text, images, links, etc.\n",
        "\n",
        "\n",
        "\n",
        "\n",
        "Importance of Following the Structure\n",
        "Browser Compatibility: Ensures consistent rendering across different browsers.\n",
        "\n",
        "Accessibility: Makes it easier for assistive technologies to interpret the content.\n",
        "\n",
        "SEO : Helps search engines properly index and rank pages.\n",
        "\n",
        "Maintainability: Standard structure makes code easier to read, debug, and maintain.\n",
        "\n",
        "Validation: Ensures the document passes HTML validators, reducing errors."
      ],
      "metadata": {
        "id": "ZCWLWSWRL6nR"
      }
    },
    {
      "cell_type": "markdown",
      "source": [
        "**Question 2**\n",
        "\n",
        "To build a small personal profile page and include the required elements, I would use the following HTML tags:\n",
        "\n",
        " 1)\n",
        " Name as a Heading:\n",
        "Use a heading tag like h1,\n",
        "which is typically reserved for the main title."
      ],
      "metadata": {
        "id": "5MalS71MMq9_"
      }
    },
    {
      "cell_type": "code",
      "source": [
        "<h1>savy sadana</h1>\n"
      ],
      "metadata": {
        "id": "FE-eBjnKNgQ-"
      },
      "execution_count": null,
      "outputs": []
    },
    {
      "cell_type": "markdown",
      "source": [
        "2)\n",
        "Describe myself in a Paragraph:\n",
        "Use the p tag to write a paragraph about myself."
      ],
      "metadata": {
        "id": "DQzKje79Np9N"
      }
    },
    {
      "cell_type": "code",
      "source": [
        "<p>I am a passionate web developer with a love for clean design and efficient code.</p>\n"
      ],
      "metadata": {
        "id": "2F5oqh7JNpa2"
      },
      "execution_count": null,
      "outputs": []
    },
    {
      "cell_type": "markdown",
      "source": [
        "3)\n",
        "Emphasize a Key Skill:\n",
        "Use the strong tag (for importance) or em tag (for emphasis/italics)."
      ],
      "metadata": {
        "id": "0_CyOxaDOKNQ"
      }
    },
    {
      "cell_type": "code",
      "source": [
        "<p>My key skill is <strong>JavaScript</strong>, which I use to build dynamic, responsive web applications.</p>\n"
      ],
      "metadata": {
        "id": "ug_0mMHXOXzH"
      },
      "execution_count": null,
      "outputs": []
    },
    {
      "cell_type": "code",
      "source": [
        "<!DOCTYPE html>\n",
        "<html lang=\"en\">\n",
        "<head>\n",
        "    <meta charset=\"UTF-8\">\n",
        "    <title>Personal Profile</title>\n",
        "</head>\n",
        "<body>\n",
        "    <h1>savy sadana</h1>\n",
        "    <p>I am a passionate web developer with a love for clean design and efficient code.</p>\n",
        "    <p>My key skill is <strong>JavaScript</strong>, which I use to build dynamic, responsive web applications.</p>\n",
        "</body>\n",
        "</html>\n"
      ],
      "metadata": {
        "id": "_gQmgD-2OemC"
      },
      "execution_count": null,
      "outputs": []
    },
    {
      "cell_type": "markdown",
      "source": [
        "**Question 3**\n",
        "\n",
        "The comment is not properly closed with -->, so the browser may treat the rest of the code as part of the comment and not render it.\n",
        "\n"
      ],
      "metadata": {
        "id": "h2Wt5ekCObEH"
      }
    },
    {
      "cell_type": "code",
      "source": [
        "<!-- This is an HTML comment -->\n",
        "<h1>Welcome to my website</h1>\n"
      ],
      "metadata": {
        "id": "B8j5ff2SKZrr"
      },
      "execution_count": null,
      "outputs": []
    },
    {
      "cell_type": "markdown",
      "source": [
        "Now the comment is properly closed, and the heading will be displayed correctly."
      ],
      "metadata": {
        "id": "alY9JqSLKElb"
      }
    },
    {
      "cell_type": "markdown",
      "source": [
        "**Question 4**\n",
        "\n"
      ],
      "metadata": {
        "id": "XpzV9sYpNB3W"
      }
    },
    {
      "cell_type": "code",
      "source": [
        "<!DOCTYPE html>\n",
        "<html lang=\"en\">\n",
        "<head>\n",
        "    <meta charset=\"UTF-8\">\n",
        "    <title>User Form</title>\n",
        "</head>\n",
        "<body>\n",
        "    <h2>User Information Form</h2>\n",
        "    <form action=\"#\" method=\"post\">\n",
        "        <label for=\"name\">Name:</label><br>\n",
        "        <input type=\"text\" id=\"name\" name=\"name\" required><br><br>\n",
        "\n",
        "        <label for=\"country\">Country:</label><br>\n",
        "        <select id=\"country\" name=\"country\" required>\n",
        "            <option value=\"\">--Select your country--</option>\n",
        "            <option value=\"us\">United States</option>\n",
        "            <option value=\"uk\">United Kingdom</option>\n",
        "            <option value=\"india\">India</option>\n",
        "            <option value=\"canada\">Canada</option>\n",
        "        </select><br><br>\n",
        "\n",
        "        <button type=\"submit\">Submit</button>\n",
        "    </form>\n",
        "</body>\n",
        "</html>\n"
      ],
      "metadata": {
        "id": "U-5zb1V9O1is"
      },
      "execution_count": null,
      "outputs": []
    },
    {
      "cell_type": "markdown",
      "source": [
        "**Question 5**\n",
        "\n",
        "Your favorite fruits in a bulleted list (unordered list)\n",
        "\n",
        "Your top 3 programming languages in a numbered list (ordered list)\n"
      ],
      "metadata": {
        "id": "Q4Dq5hc5KocE"
      }
    },
    {
      "cell_type": "code",
      "source": [
        "<!DOCTYPE html>\n",
        "<html lang=\"en\">\n",
        "  <head>\n",
        "    <meta charset=\"UTF-8\" />\n",
        "    <meta name=\"viewport\" content=\"width=device-width, initial-scale=1.0\" />\n",
        "    <title>lists</title>\n",
        "  </head>\n",
        "\n",
        "  <body>\n",
        "    <h1>My favourite fruits</h1>\n",
        "    <ul>\n",
        "      <li>Mango</li>\n",
        "      <li>Lichi</li>\n",
        "      <li>Melon</li>\n",
        "    </ul>\n",
        "    <h1>My top 3 languages\n",
        "    </h1>\n",
        "    <ol>\n",
        "      <li>Javascript</li>\n",
        "      <li>Python</li>\n",
        "      <li>Java</li>\n",
        "    </ol>\n",
        "  </body>\n",
        "</html>\n"
      ],
      "metadata": {
        "id": "4BzIFiICMtzF"
      },
      "execution_count": null,
      "outputs": []
    }
  ]
}